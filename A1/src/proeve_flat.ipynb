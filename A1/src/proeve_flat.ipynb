{
 "cells": [
  {
   "cell_type": "code",
   "execution_count": 2,
   "metadata": {},
   "outputs": [
    {
     "data": {
      "text/plain": [
       "[['START', 'All', 'that', 'glitters', \"isn't\", 'gold', 'END'],\n",
       " ['START', \"All's\", 'well', 'that', 'ends', 'well', 'END']]"
      ]
     },
     "execution_count": 2,
     "metadata": {},
     "output_type": "execute_result"
    }
   ],
   "source": [
    "toy_corpus = [\"START All that glitters isn't gold END\".split(\" \"), \"START All's well that ends well END\".split(\" \")]\n",
    "toy_corpus"
   ]
  },
  {
   "cell_type": "code",
   "execution_count": 3,
   "metadata": {
    "pycharm": {
     "name": "#%%\n"
    }
   },
   "outputs": [],
   "source": [
    "import numpy as np"
   ]
  },
  {
   "cell_type": "code",
   "execution_count": 169,
   "metadata": {},
   "outputs": [],
   "source": [
    "corpus = toy_corpus\n",
    "out = np.concatenate(corpus).ravel()\n",
    "unique_words = sorted(np.unique(out))\n",
    "word2Ind = {word:i for i,word in enumerate(unique_words)}"
   ]
  },
  {
   "cell_type": "code",
   "execution_count": 177,
   "metadata": {},
   "outputs": [],
   "source": [
    "# 1. iterate lists in corpus\n",
    "# 2. add padding to lists, o.w. indexing won't work\n",
    "# 3. iterate lists and find center words and words to left and right of center word\n",
    "# 4. find indices for cooccuring words and add 1 to correct index\n",
    "\n",
    "def calc_cooccurence_mat(corpus, window_size=2):\n",
    "    M = np.zeros((len(unique_words),len(unique_words)))\n",
    "    \n",
    "    #window_size = 1\n",
    "    for word_ls in corpus:\n",
    "        word_ls = [None for i in range(window_size)] + word_ls + [None for i in range(window_size)] #padding \n",
    "        for i in range(window_size, len(word_ls)-window_size):\n",
    "\n",
    "\n",
    "            word_slice = word_ls[i-window_size:i+window_size+1]\n",
    "            cut = len(word_slice)//2\n",
    "\n",
    "            center_word = word_slice[window_size]\n",
    "            \n",
    "            word_slice_left = word_slice[:cut]\n",
    "            word_slice_right= word_slice[cut+1:]\n",
    "            \n",
    "            #print(\"For word slice:\", word_slice)\n",
    "            #print(\"left:\",word_slice_left)\n",
    "            #print(\"center:\",center_word)\n",
    "            #print(\"right:\",word_slice_right)\n",
    "            \n",
    "            \n",
    "            # list of N indices for word M in MxN matrix\n",
    "            words_to_add = [word2Ind[tok] for tok in word_slice_left + word_slice_right \n",
    "                           if tok is not None]\n",
    "            #print(\"Words to add:\", words_to_add)\n",
    "            #print(\"--------------------------\")\n",
    "\n",
    "            # index of word M\n",
    "            m_idx = word2Ind[center_word]\n",
    "\n",
    "            for word_idx in words_to_add: \n",
    "                M[m_idx, word_idx] += 1\n",
    "    return M\n",
    "        "
   ]
  },
  {
   "cell_type": "code",
   "execution_count": 179,
   "metadata": {},
   "outputs": [],
   "source": [
    "from sklearn.decomposition import TruncatedSVD\n",
    "from sklearn.decomposition import PCA\n"
   ]
  },
  {
   "cell_type": "code",
   "execution_count": 189,
   "metadata": {},
   "outputs": [],
   "source": [
    "M = np.random.rand(100, 100)"
   ]
  },
  {
   "cell_type": "code",
   "execution_count": 190,
   "metadata": {},
   "outputs": [
    {
     "data": {
      "text/plain": [
       "array([[0.38992842, 0.84196181, 0.95594219, ..., 0.03469912, 0.20901681,\n",
       "        0.15012548],\n",
       "       [0.29792619, 0.84930652, 0.85178872, ..., 0.90650492, 0.3451828 ,\n",
       "        0.20531002],\n",
       "       [0.29410528, 0.80740193, 0.27616625, ..., 0.83704028, 0.83101991,\n",
       "        0.92353669],\n",
       "       ...,\n",
       "       [0.42654196, 0.3259527 , 0.58588012, ..., 0.36682743, 0.77327251,\n",
       "        0.13895012],\n",
       "       [0.59457871, 0.63464073, 0.05374651, ..., 0.37519777, 0.65212029,\n",
       "        0.29694526],\n",
       "       [0.59020977, 0.17077184, 0.14792485, ..., 0.25983418, 0.83660418,\n",
       "        0.09225988]])"
      ]
     },
     "execution_count": 190,
     "metadata": {},
     "output_type": "execute_result"
    }
   ],
   "source": [
    "M"
   ]
  },
  {
   "cell_type": "code",
   "execution_count": 191,
   "metadata": {},
   "outputs": [],
   "source": [
    "k = 2\n",
    "n_iters = 10\n",
    "svd = TruncatedSVD(n_components = k, n_iter=n_iters)\n",
    "M_reduced = svd.fit_transform(M)"
   ]
  },
  {
   "cell_type": "code",
   "execution_count": 192,
   "metadata": {},
   "outputs": [
    {
     "data": {
      "text/plain": [
       "array([[ 4.74587885, -0.86732649],\n",
       "       [ 5.14921043, -0.58594638],\n",
       "       [ 5.2380408 , -0.63715935],\n",
       "       [ 4.75752977, -0.33255309],\n",
       "       [ 4.46362255,  0.19851872],\n",
       "       [ 5.14681111, -0.02802903],\n",
       "       [ 5.228984  ,  0.15824285],\n",
       "       [ 4.85158308,  0.93061569],\n",
       "       [ 4.69736801,  0.01126203],\n",
       "       [ 4.9576889 ,  0.2921155 ],\n",
       "       [ 4.93847275,  0.90330225],\n",
       "       [ 5.48166542, -0.53621125],\n",
       "       [ 5.44596835,  0.19785556],\n",
       "       [ 4.81408333, -0.21933978],\n",
       "       [ 5.00419442,  0.54243103],\n",
       "       [ 5.28629459, -0.83240893],\n",
       "       [ 4.9554833 ,  0.35466502],\n",
       "       [ 5.23657456, -0.26297839],\n",
       "       [ 5.48459944, -0.27840572],\n",
       "       [ 5.4410454 , -0.32822266],\n",
       "       [ 4.7910387 ,  0.92337446],\n",
       "       [ 5.2762754 ,  0.7915306 ],\n",
       "       [ 4.72145489, -0.23302665],\n",
       "       [ 5.14435936,  0.17423258],\n",
       "       [ 4.59299834, -0.64720197],\n",
       "       [ 4.84602764,  0.27994903],\n",
       "       [ 4.93185698,  0.01579453],\n",
       "       [ 4.7247443 ,  0.11009249],\n",
       "       [ 5.11204443,  0.38966929],\n",
       "       [ 4.67260038,  0.81021003],\n",
       "       [ 5.04571856,  0.62705475],\n",
       "       [ 4.22722244,  0.13376995],\n",
       "       [ 5.07106021, -1.42549442],\n",
       "       [ 4.57071797,  0.44173602],\n",
       "       [ 5.40234383, -0.82972907],\n",
       "       [ 4.71148941,  0.43045835],\n",
       "       [ 5.43922808,  0.33334763],\n",
       "       [ 4.90804826, -1.1312909 ],\n",
       "       [ 4.88890697,  0.39083956],\n",
       "       [ 4.98804073, -0.82271733],\n",
       "       [ 5.22747499,  0.44106813],\n",
       "       [ 4.80076995,  0.16086595],\n",
       "       [ 5.36680414,  0.32461124],\n",
       "       [ 4.70291742, -0.31232273],\n",
       "       [ 4.55171655,  0.27232377],\n",
       "       [ 4.29784247, -0.33893904],\n",
       "       [ 5.2883321 ,  0.04838727],\n",
       "       [ 5.15452359, -0.68615581],\n",
       "       [ 5.3226978 ,  0.01570876],\n",
       "       [ 4.76238403, -0.25484295],\n",
       "       [ 5.13697785, -0.1891439 ],\n",
       "       [ 4.67913108,  0.31940667],\n",
       "       [ 5.05714062, -0.89360781],\n",
       "       [ 5.35309743, -0.37952226],\n",
       "       [ 5.03202624,  0.00613939],\n",
       "       [ 5.31372793, -0.33735215],\n",
       "       [ 4.50495305, -0.96978327],\n",
       "       [ 5.07987967,  0.85194525],\n",
       "       [ 4.8964843 ,  0.17897179],\n",
       "       [ 4.61726752, -0.17024075],\n",
       "       [ 5.04643648,  0.46127597],\n",
       "       [ 4.61199988, -0.32021232],\n",
       "       [ 5.22092333,  0.9891493 ],\n",
       "       [ 4.70680527, -0.0633263 ],\n",
       "       [ 5.36505435,  0.00950268],\n",
       "       [ 4.36343314, -1.1913206 ],\n",
       "       [ 5.13570092, -0.19169226],\n",
       "       [ 4.86623881,  0.53868761],\n",
       "       [ 5.2167638 , -0.6459065 ],\n",
       "       [ 5.13948513, -0.15715401],\n",
       "       [ 5.33641754,  0.7885323 ],\n",
       "       [ 4.457327  ,  0.31388759],\n",
       "       [ 5.09195572, -0.30574473],\n",
       "       [ 4.9235087 ,  0.23619656],\n",
       "       [ 5.2726405 , -0.3119484 ],\n",
       "       [ 4.93220091, -0.212498  ],\n",
       "       [ 5.51654588, -0.65630986],\n",
       "       [ 5.38266696,  0.8177646 ],\n",
       "       [ 5.97066552,  0.20407629],\n",
       "       [ 5.15069539,  0.1862577 ],\n",
       "       [ 5.5620971 , -0.07649379],\n",
       "       [ 5.13703518,  0.39385552],\n",
       "       [ 4.93059887, -0.16870982],\n",
       "       [ 5.13717461, -0.42877412],\n",
       "       [ 4.47542877,  0.86656678],\n",
       "       [ 5.04438867,  0.22052128],\n",
       "       [ 5.3586815 , -0.02074327],\n",
       "       [ 4.76201109, -0.41653148],\n",
       "       [ 4.60507595, -0.12185629],\n",
       "       [ 5.11408992,  0.58515377],\n",
       "       [ 4.67208615,  0.9899452 ],\n",
       "       [ 5.65080829, -0.49445293],\n",
       "       [ 5.08345973, -0.44426119],\n",
       "       [ 4.62113307,  0.27835077],\n",
       "       [ 5.10383288,  1.46908538],\n",
       "       [ 5.02119008, -0.70772461],\n",
       "       [ 4.91132708, -0.78288848],\n",
       "       [ 4.81667892,  0.28765781],\n",
       "       [ 4.95190362,  0.65889679],\n",
       "       [ 4.79928676,  0.05510643]])"
      ]
     },
     "execution_count": 192,
     "metadata": {},
     "output_type": "execute_result"
    }
   ],
   "source": [
    "python grader.py"
   ]
  },
  {
   "cell_type": "code",
   "execution_count": null,
   "metadata": {},
   "outputs": [],
   "source": []
  }
 ],
 "metadata": {
  "kernelspec": {
   "display_name": "Python 3 (ipykernel)",
   "language": "python",
   "name": "python3"
  },
  "language_info": {
   "codemirror_mode": {
    "name": "ipython",
    "version": 3
   },
   "file_extension": ".py",
   "mimetype": "text/x-python",
   "name": "python",
   "nbconvert_exporter": "python",
   "pygments_lexer": "ipython3",
   "version": "3.8.6"
  }
 },
 "nbformat": 4,
 "nbformat_minor": 1
}
